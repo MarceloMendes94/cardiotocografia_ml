{
 "cells": [
  {
   "cell_type": "markdown",
   "id": "a2ea8264",
   "metadata": {},
   "source": [
    "## Importando a bibliotecas"
   ]
  },
  {
   "cell_type": "code",
   "execution_count": 1,
   "id": "7e18179c",
   "metadata": {},
   "outputs": [
    {
     "name": "stdout",
     "output_type": "stream",
     "text": [
      "Library ipywidgets Installed\n",
      "Library imblearn Installed\n",
      "Library Shap Installed\n"
     ]
    }
   ],
   "source": [
    "!pip install ipywidgets > /dev/null & echo 'Library ipywidgets Installed'\n",
    "!pip install imblearn > /dev/null & echo 'Library imblearn Installed'\n",
    "!pip install shap > /dev/null & echo 'Library Shap Installed'"
   ]
  },
  {
   "cell_type": "code",
   "execution_count": 24,
   "id": "f9531045",
   "metadata": {},
   "outputs": [],
   "source": [
    "import pandas as pd\n",
    "import matplotlib.pyplot as plt\n",
    "from ydata_profiling import ProfileReport\n",
    "from imblearn.pipeline import Pipeline\n",
    "from imblearn.under_sampling import RandomUnderSampler\n",
    "from imblearn.over_sampling import RandomOverSampler\n",
    "from sklearn.model_selection import train_test_split\n",
    "from sklearn.preprocessing import StandardScaler\n",
    "from sklearn.tree import DecisionTreeClassifier\n",
    "from sklearn.model_selection import GridSearchCV\n",
    "from sklearn.ensemble import RandomForestClassifier\n",
    "\n",
    "import warnings\n",
    "warnings.filterwarnings(\"ignore\", message=\".*The 'nopython' keyword.*\")"
   ]
  },
  {
   "cell_type": "markdown",
   "id": "139b3d0e",
   "metadata": {},
   "source": [
    "## Importando a base de dados"
   ]
  },
  {
   "cell_type": "code",
   "execution_count": 3,
   "id": "3308a43c",
   "metadata": {},
   "outputs": [],
   "source": [
    "df_description = pd.read_excel(\\\n",
    "                        'CTG.xls', sheet_name = 'Description',\\\n",
    "                         usecols = 'C:D', skiprows = 6, nrows=38,\\\n",
    "                         names = ['Feature','Description']      \n",
    "                    )"
   ]
  },
  {
   "cell_type": "code",
   "execution_count": 4,
   "id": "8adcfe43",
   "metadata": {},
   "outputs": [],
   "source": [
    "df = pd.read_excel(\\\n",
    "            'CTG.xls', sheet_name = 'Raw Data',usecols = 'D:AN')\n",
    "df = df.drop(0, axis = 0)\n",
    "df = df.drop([2129, 2128, 2127], axis = 0)"
   ]
  },
  {
   "cell_type": "markdown",
   "id": "656ae938",
   "metadata": {},
   "source": [
    "## FAST EDA\n",
    "**Exploratory data analysis**  \n",
    "Biblioteca usada [ydata-profiling](https://github.com/ydataai/ydata-profiling) "
   ]
  },
  {
   "cell_type": "code",
   "execution_count": 5,
   "id": "bfd91416",
   "metadata": {},
   "outputs": [],
   "source": [
    "profile = ProfileReport(df, title=\"Profiling Report\")\n",
    "profile.to_file(\"report.html\")"
   ]
  },
  {
   "cell_type": "markdown",
   "id": "5d2a7726",
   "metadata": {},
   "source": [
    "Foi realizado uma análise incial usando a biblioteca ydata_profiling, no link a seguir:  \n",
    "[ydata_report](report.html)  "
   ]
  },
  {
   "cell_type": "markdown",
   "id": "b9771e9c",
   "metadata": {},
   "source": [
    "### considerações \n",
    "1. Baixa variabilidade  \n",
    "As colunas DS,DP,DR tem variabilidade menor que 1% sendo muito baixo podendo ser considerado constante, serão removidas por isso.  \n",
    "\n",
    "2. Alta correlação  \n",
    "Coluna CLASS tem uma correlação muito alta com as colunas A,B,C,D,E,AD,DE,FS,SUSP e NSP, por esse motivo será removida. Além disso, há uma correlação forte entre as colunas: LB e LBE, representando o baseline do sistema (sisporto) e (expecialista), porém não serão removidas.  \n",
    "\n",
    "3. Balanceamento de carga  \n",
    "Existe desbalanceamento de carga muito alto nacoluna alvo NSP por esse motivo recomento uma estratégia de balanceamento de carga antes da construção do modelo.\n"
   ]
  },
  {
   "cell_type": "code",
   "execution_count": 6,
   "id": "93cef1da",
   "metadata": {},
   "outputs": [],
   "source": [
    "df = df.drop(['CLASS','DR','DS','DP'], axis = 1)"
   ]
  },
  {
   "cell_type": "markdown",
   "id": "f73026d2",
   "metadata": {},
   "source": [
    "## Pipeline"
   ]
  },
  {
   "cell_type": "markdown",
   "id": "6448d648",
   "metadata": {},
   "source": [
    "https://lerekoqholosha9.medium.com/random-oversampling-and-undersampling-for-imbalanced-classification-a4aad406fd72"
   ]
  },
  {
   "cell_type": "code",
   "execution_count": 7,
   "id": "1b858884",
   "metadata": {},
   "outputs": [],
   "source": [
    "X = df.drop('NSP', axis = 1)\n",
    "y = df['NSP']"
   ]
  },
  {
   "cell_type": "code",
   "execution_count": 8,
   "id": "e539c41c",
   "metadata": {},
   "outputs": [],
   "source": [
    "ros = RandomOverSampler(sampling_strategy = {2.0:500,3.0:500}, random_state = 42)"
   ]
  },
  {
   "cell_type": "code",
   "execution_count": 9,
   "id": "2768c722",
   "metadata": {},
   "outputs": [],
   "source": [
    "rus = RandomUnderSampler(sampling_strategy = 'majority', random_state = 42)"
   ]
  },
  {
   "cell_type": "code",
   "execution_count": 10,
   "id": "e8019413",
   "metadata": {},
   "outputs": [],
   "source": [
    "# Decision tree\n",
    "param_dt = {'criterion':['gini', 'entropy', 'log_loss'],\\\n",
    "           'max_depth':[2,3,4,5,7],}\n",
    "\n",
    "# Random Forest\n",
    "params_rf = {'n_estimators':[100,150,200,250,300,700],\\\n",
    "             'max_depth':[2,3,4,5,6,7,],\\\n",
    "             'criterion':['gini', 'entropy', 'log_loss'],}\n",
    "\n",
    "\n",
    "models = [ (DecisionTreeClassifier(), param_dt, 'Decision Tree'),\\\n",
    "           (RandomForestClassifier(), params_rf, 'Random Forest')]"
   ]
  },
  {
   "cell_type": "code",
   "execution_count": 12,
   "id": "65571127",
   "metadata": {},
   "outputs": [],
   "source": [
    "X_train, X_test, y_train, y_test = train_test_split(X, y, random_state = 42)\n",
    "cv = 5\n",
    "df_result = pd.DataFrame()\n",
    "classifier_list = []\n",
    "\n",
    "for model_ in models:\n",
    "    grid = GridSearchCV(model_[0], param_grid = model_[1], cv = cv,\\\n",
    "                        n_jobs = -1, scoring = 'accuracy')\n",
    "    pipe = Pipeline(\n",
    "        [('Rand_Over_Sample',ros),\\\n",
    "         ('Rand_Under_Sample',rus),\\\n",
    "         ('scaler', StandardScaler()),\\\n",
    "         (model_[2], grid)])\n",
    "\n",
    "    pipe.fit(X_train, y_train)\n",
    "    #pipe.score(X_test, y_test)\n",
    "    index = pipe[model_[2]].best_index_\n",
    "    cv_results = pipe[model_[2]].cv_results_\n",
    "    df_result[model_[2]] = [cv_results[f\"split{i}_test_score\"][index] for i in range(cv)]\n",
    "    \n",
    "    # Salvo para acessar o modelo desejado\n",
    "    # criado pelo pipeline em caso de uso\n",
    "    # em produção ou para uso de explicabilidade como o shap\n",
    "    #classifier_list['Decision Tree'].best_estimator_\n",
    "    #classifier_list.predict(X_test)\n",
    "    classifier_list.append(pipe)"
   ]
  },
  {
   "cell_type": "code",
   "execution_count": 13,
   "id": "e23b7e75",
   "metadata": {},
   "outputs": [],
   "source": [
    "def boxplot_sorted(df, score, title, rot=90, figsize=(10,6), fontsize=12):\n",
    "    df2 = df\n",
    "    meds = df2.median().sort_values(ascending=False)\n",
    "    axes = df2[meds.index].boxplot(figsize=figsize, rot=rot, fontsize=fontsize,\n",
    "                                   boxprops=dict(linewidth=4, color='cornflowerblue'),\n",
    "                                   whiskerprops=dict(linewidth=4, color='cornflowerblue'),\n",
    "                                   medianprops=dict(linewidth=4, color='firebrick'),\n",
    "                                   capprops=dict(linewidth=4, color='cornflowerblue'),\n",
    "                                   flierprops=dict(marker='o', markerfacecolor='dimgray',\n",
    "                                        markersize=12, markeredgecolor='black'),\n",
    "                                   return_type=\"axes\")\n",
    "    axes.set_title(title, fontsize=fontsize)\n",
    "    plt.savefig(title + '.pdf')\n",
    "    plt.show()"
   ]
  },
  {
   "cell_type": "code",
   "execution_count": 14,
   "id": "0ad52505",
   "metadata": {},
   "outputs": [
    {
     "data": {
      "image/png": "[encoded data removed]",
      "text/plain": [
       "<Figure size 1000x600 with 1 Axes>"
      ]
     },
     "metadata": {},
     "output_type": "display_data"
    }
   ],
   "source": [
    "boxplot_sorted(df_result,'Accuracy','Boxplot of models RF and DT in Accuracy')"
   ]
  },
  {
   "cell_type": "code",
   "execution_count": 15,
   "id": "d9a5c785",
   "metadata": {},
   "outputs": [
    {
     "data": {
      "text/html": [
       "<style>#sk-container-id-1 {color: black;background-color: white;}#sk-container-id-1 pre{padding: 0;}#sk-container-id-1 div.sk-toggleable {background-color: white;}#sk-container-id-1 label.sk-toggleable__label {cursor: pointer;display: block;width: 100%;margin-bottom: 0;padding: 0.3em;box-sizing: border-box;text-align: center;}#sk-container-id-1 label.sk-toggleable__label-arrow:before {content: \"▸\";float: left;margin-right: 0.25em;color: #696969;}#sk-container-id-1 label.sk-toggleable__label-arrow:hover:before {color: black;}#sk-container-id-1 div.sk-estimator:hover label.sk-toggleable__label-arrow:before {color: black;}#sk-container-id-1 div.sk-toggleable__content {max-height: 0;max-width: 0;overflow: hidden;text-align: left;background-color: #f0f8ff;}#sk-container-id-1 div.sk-toggleable__content pre {margin: 0.2em;color: black;border-radius: 0.25em;background-color: #f0f8ff;}#sk-container-id-1 input.sk-toggleable__control:checked~div.sk-toggleable__content {max-height: 200px;max-width: 100%;overflow: auto;}#sk-container-id-1 input.sk-toggleable__control:checked~label.sk-toggleable__label-arrow:before {content: \"▾\";}#sk-container-id-1 div.sk-estimator input.sk-toggleable__control:checked~label.sk-toggleable__label {background-color: #d4ebff;}#sk-container-id-1 div.sk-label input.sk-toggleable__control:checked~label.sk-toggleable__label {background-color: #d4ebff;}#sk-container-id-1 input.sk-hidden--visually {border: 0;clip: rect(1px 1px 1px 1px);clip: rect(1px, 1px, 1px, 1px);height: 1px;margin: -1px;overflow: hidden;padding: 0;position: absolute;width: 1px;}#sk-container-id-1 div.sk-estimator {font-family: monospace;background-color: #f0f8ff;border: 1px dotted black;border-radius: 0.25em;box-sizing: border-box;margin-bottom: 0.5em;}#sk-container-id-1 div.sk-estimator:hover {background-color: #d4ebff;}#sk-container-id-1 div.sk-parallel-item::after {content: \"\";width: 100%;border-bottom: 1px solid gray;flex-grow: 1;}#sk-container-id-1 div.sk-label:hover label.sk-toggleable__label {background-color: #d4ebff;}#sk-container-id-1 div.sk-serial::before {content: \"\";position: absolute;border-left: 1px solid gray;box-sizing: border-box;top: 0;bottom: 0;left: 50%;z-index: 0;}#sk-container-id-1 div.sk-serial {display: flex;flex-direction: column;align-items: center;background-color: white;padding-right: 0.2em;padding-left: 0.2em;position: relative;}#sk-container-id-1 div.sk-item {position: relative;z-index: 1;}#sk-container-id-1 div.sk-parallel {display: flex;align-items: stretch;justify-content: center;background-color: white;position: relative;}#sk-container-id-1 div.sk-item::before, #sk-container-id-1 div.sk-parallel-item::before {content: \"\";position: absolute;border-left: 1px solid gray;box-sizing: border-box;top: 0;bottom: 0;left: 50%;z-index: -1;}#sk-container-id-1 div.sk-parallel-item {display: flex;flex-direction: column;z-index: 1;position: relative;background-color: white;}#sk-container-id-1 div.sk-parallel-item:first-child::after {align-self: flex-end;width: 50%;}#sk-container-id-1 div.sk-parallel-item:last-child::after {align-self: flex-start;width: 50%;}#sk-container-id-1 div.sk-parallel-item:only-child::after {width: 0;}#sk-container-id-1 div.sk-dashed-wrapped {border: 1px dashed gray;margin: 0 0.4em 0.5em 0.4em;box-sizing: border-box;padding-bottom: 0.4em;background-color: white;}#sk-container-id-1 div.sk-label label {font-family: monospace;font-weight: bold;display: inline-block;line-height: 1.2em;}#sk-container-id-1 div.sk-label-container {text-align: center;}#sk-container-id-1 div.sk-container {/* jupyter's `normalize.less` sets `[hidden] { display: none; }` but bootstrap.min.css set `[hidden] { display: none !important; }` so we also need the `!important` here to be able to override the default hidden behavior on the sphinx rendered scikit-learn.org. See: https://github.com/scikit-learn/scikit-learn/issues/21755 */display: inline-block !important;position: relative;}#sk-container-id-1 div.sk-text-repr-fallback {display: none;}</style><div id=\"sk-container-id-1\" class=\"sk-top-container\"><div class=\"sk-text-repr-fallback\"><pre>RandomForestClassifier(criterion=&#x27;log_loss&#x27;, max_depth=7, n_estimators=200)</pre><b>In a Jupyter environment, please rerun this cell to show the HTML representation or trust the notebook. <br />On GitHub, the HTML representation is unable to render, please try loading this page with nbviewer.org.</b></div><div class=\"sk-container\" hidden><div class=\"sk-item\"><div class=\"sk-estimator sk-toggleable\"><input class=\"sk-toggleable__control sk-hidden--visually\" id=\"sk-estimator-id-1\" type=\"checkbox\" checked><label for=\"sk-estimator-id-1\" class=\"sk-toggleable__label sk-toggleable__label-arrow\">RandomForestClassifier</label><div class=\"sk-toggleable__content\"><pre>RandomForestClassifier(criterion=&#x27;log_loss&#x27;, max_depth=7, n_estimators=200)</pre></div></div></div></div></div>"
      ],
      "text/plain": [
       "RandomForestClassifier(criterion='log_loss', max_depth=7, n_estimators=200)"
      ]
     },
     "execution_count": 15,
     "metadata": {},
     "output_type": "execute_result"
    }
   ],
   "source": [
    "classifier_list[1]['Random Forest'].best_estimator_"
   ]
  }
 ],
 "metadata": {
  "kernelspec": {
   "display_name": "Python 3 (ipykernel)",
   "language": "python",
   "name": "python3"
  },
  "language_info": {
   "codemirror_mode": {
    "name": "ipython",
    "version": 3
   },
   "file_extension": ".py",
   "mimetype": "text/x-python",
   "name": "python",
   "nbconvert_exporter": "python",
   "pygments_lexer": "ipython3",
   "version": "3.10.9"
  }
 },
 "nbformat": 4,
 "nbformat_minor": 5
}
